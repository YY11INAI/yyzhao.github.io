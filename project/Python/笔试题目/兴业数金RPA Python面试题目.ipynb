{
 "cells": [
  {
   "cell_type": "markdown",
   "metadata": {},
   "source": [
    "岗位介绍：目前RPA团队主要负责兴业银行集团RPA流程机器人研发和数字化创新，涉及技术有Java、C++、C、Python、Vue、数据库等，采用RPA工具有 计岗位；未来将致力于融合RPA流程机器人 、人工智能技术，构建从数据到决策的自动化智能化闭环路径，在数字世界和物理世界之间创造了新的交互点，助力企业数字化转型。"
   ]
  },
  {
   "cell_type": "markdown",
   "metadata": {},
   "source": [
    "视频面试：介绍了一下做过哪些项目，以及离职原因，应该聊的还不错。在问到我未来职场规划的时候，我说想长足发展某一领域，不管是OCR、NLP，或者DQN，之前只是接触，积累了一些经验，但是深度挖掘的东西还是不够，期待后面的工作可以深入某一块领域，做好做久。我的思考是：如目前在做的，最大限度熟悉、掌握曾经项目（包括面试）里遇到的方方面面。在技术上，个人认为不适用“吾生也有涯，而知也无涯”这句话，学就完事了。搞技术的，别整哪些花里胡哨的！\n",
    "奈何，这一番长篇大论，引得面试官深思，很善意的跟我介绍了他们的工作，主要是使用UIPATH框架进行自动化编程，更多的是与银行业务员沟通需求，然后使用UIPATH进行实现。高端的部分使用不到，所以问我想清楚了吗？\n",
    "我直言单看岗位介绍并不知情实际工作内容，的确没有想到，不过很有诚意好好考虑一下（折腾了好久，真的想先找一个稳定的工作安稳下来）。\n",
    "面试在面试官的“好好考虑中”结束······\n",
    "万万没想到，第二天HR小姐姐告诉我面试没有通过，无语中······\n",
    "不过仍是收到了笔试通知，索性看一下题目，查缺补漏。"
   ]
  },
  {
   "cell_type": "markdown",
   "metadata": {},
   "source": [
    "**单选题**\n",
    "----------------"
   ]
  },
  {
   "cell_type": "markdown",
   "metadata": {},
   "source": [
    "1.如下输出是什么？\n",
    "--------"
   ]
  },
  {
   "cell_type": "code",
   "execution_count": 6,
   "metadata": {},
   "outputs": [
    {
     "name": "stdout",
     "output_type": "stream",
     "text": [
      "1 1 1\n"
     ]
    }
   ],
   "source": [
    "class A:\n",
    "    def __str__(self):\n",
    "        return '1'\n",
    "    \n",
    "class B(A):\n",
    "    def __init__(self):\n",
    "        super().__init__()\n",
    "        \n",
    "class C(B):\n",
    "    def __init__(self):\n",
    "        super().__init__()\n",
    "        \n",
    "def main():\n",
    "    obj1 = B()\n",
    "    obj2 = A()\n",
    "    obj3 = C()\n",
    "    print(obj1, obj2, obj3)\n",
    "    \n",
    "main()"
   ]
  },
  {
   "cell_type": "markdown",
   "metadata": {},
   "source": [
    "解析：\n",
    "1.print输出对象的时候，只要自己定义了__str__(self)方法，那么就会打印从在这个方法中return的数据；\n",
    "2.\\__str__方法需要返回一个字符串，当做这个对象的描写。"
   ]
  },
  {
   "cell_type": "markdown",
   "metadata": {},
   "source": [
    "2.如下输出是什么？\n",
    "--------"
   ]
  },
  {
   "cell_type": "code",
   "execution_count": 10,
   "metadata": {},
   "outputs": [
    {
     "name": "stdout",
     "output_type": "stream",
     "text": [
      "zxxyxyy\n"
     ]
    }
   ],
   "source": [
    "print('xyyzxxyxyy'.lstrip('xyy'))"
   ]
  },
  {
   "cell_type": "markdown",
   "metadata": {},
   "source": [
    "解析：lstrip() 方法用于截掉字符串左边的空格或指定字符。"
   ]
  },
  {
   "cell_type": "markdown",
   "metadata": {},
   "source": [
    "3.如下输出是什么？\n",
    "--------"
   ]
  },
  {
   "cell_type": "code",
   "execution_count": 11,
   "metadata": {},
   "outputs": [
    {
     "name": "stdout",
     "output_type": "stream",
     "text": [
      "7\n"
     ]
    }
   ],
   "source": [
    "class change:\n",
    "    def __init__(self, x, y, z):\n",
    "        self.a = x + y + z\n",
    "        \n",
    "x = change(1, 2, 3)\n",
    "y = getattr(x, 'a')\n",
    "setattr(x, 'a', y+1)\n",
    "print(x.a)"
   ]
  },
  {
   "cell_type": "markdown",
   "metadata": {},
   "source": [
    "解析：\n",
    "1.getattr() 函数用于返回一个对象属性值；\n",
    "2.setattr() 函数对应函数 getattr()，用于设置属性值，该属性不一定是存在的。"
   ]
  },
  {
   "cell_type": "markdown",
   "metadata": {},
   "source": [
    "4.如下代码输出是什么？\n",
    "--------"
   ]
  },
  {
   "cell_type": "code",
   "execution_count": 13,
   "metadata": {},
   "outputs": [
    {
     "name": "stdout",
     "output_type": "stream",
     "text": [
      "117\n"
     ]
    }
   ],
   "source": [
    "print(0x35 | 0x75)"
   ]
  },
  {
   "cell_type": "markdown",
   "metadata": {},
   "source": [
    "解析：\n",
    "0x 二进制\n",
    "0x35 —— 0100011\n",
    "0x75 —— 1001011\n",
    "\n",
    "| 与运算\n",
    "\n",
    "将上述两个二进制数值进行与运算后得：\n",
    "1101011 = 0x107\n",
    "\n",
    "补充：\n",
    " 1.十进制整数转换为二进制整数十进制整数转换为二进制整数采用\"除2取余，逆序排列\"法；\n",
    " 2.十进制小数转换成二进制小数采用\"乘2取整，顺序排列\"法；\n",
    " 3.“与”、“或”、“非”逻辑的基本运算公式是and、or、not。"
   ]
  },
  {
   "cell_type": "markdown",
   "metadata": {},
   "source": [
    "5.如下代码输出是什么？\n",
    "--------"
   ]
  },
  {
   "cell_type": "code",
   "execution_count": 17,
   "metadata": {},
   "outputs": [
    {
     "ename": "TypeError",
     "evalue": "copy() missing 1 required positional argument: 'x'",
     "output_type": "error",
     "traceback": [
      "\u001b[1;31m---------------------------------------------------------------------------\u001b[0m",
      "\u001b[1;31mTypeError\u001b[0m                                 Traceback (most recent call last)",
      "\u001b[1;32m<ipython-input-17-b11473904436>\u001b[0m in \u001b[0;36m<module>\u001b[1;34m\u001b[0m\n\u001b[0;32m      1\u001b[0m \u001b[1;32mimport\u001b[0m \u001b[0mcopy\u001b[0m\u001b[1;33m\u001b[0m\u001b[1;33m\u001b[0m\u001b[0m\n\u001b[0;32m      2\u001b[0m \u001b[0ma\u001b[0m \u001b[1;33m=\u001b[0m \u001b[1;33m[\u001b[0m\u001b[1;36m14\u001b[0m\u001b[1;33m,\u001b[0m \u001b[1;36m52\u001b[0m\u001b[1;33m,\u001b[0m \u001b[1;36m7\u001b[0m\u001b[1;33m]\u001b[0m\u001b[1;33m\u001b[0m\u001b[1;33m\u001b[0m\u001b[0m\n\u001b[1;32m----> 3\u001b[1;33m \u001b[0mb\u001b[0m \u001b[1;33m=\u001b[0m \u001b[0mcopy\u001b[0m\u001b[1;33m.\u001b[0m\u001b[0mcopy\u001b[0m\u001b[1;33m(\u001b[0m\u001b[1;33m)\u001b[0m\u001b[1;33m\u001b[0m\u001b[1;33m\u001b[0m\u001b[0m\n\u001b[0m\u001b[0;32m      4\u001b[0m \u001b[0mb\u001b[0m \u001b[1;32mis\u001b[0m \u001b[0ma\u001b[0m\u001b[1;33m\u001b[0m\u001b[1;33m\u001b[0m\u001b[0m\n",
      "\u001b[1;31mTypeError\u001b[0m: copy() missing 1 required positional argument: 'x'"
     ]
    }
   ],
   "source": [
    "import copy\n",
    "a = [14, 52, 7]\n",
    "b = copy.copy()\n",
    "b is a"
   ]
  },
  {
   "cell_type": "markdown",
   "metadata": {},
   "source": [
    "解析：\n",
    "报错没问题，但是题目就是这样的。\n",
    "我估计是想考copy.copy()和copy.deepcopy()。\n",
    "建议参考：https://www.runoob.com/w3cnote/python-understanding-dict-copy-shallow-or-deep.html"
   ]
  },
  {
   "cell_type": "markdown",
   "metadata": {},
   "source": [
    "6.如下代码输出是什么？\n",
    "--------"
   ]
  },
  {
   "cell_type": "code",
   "execution_count": 25,
   "metadata": {},
   "outputs": [
    {
     "name": "stdout",
     "output_type": "stream",
     "text": [
      "['h', 'e', 'l', 'l', 'o']\n"
     ]
    }
   ],
   "source": [
    "print([i.lower() for i in \"HELLO\"])"
   ]
  },
  {
   "cell_type": "markdown",
   "metadata": {},
   "source": [
    "解析：可能在考察lower的使用。"
   ]
  },
  {
   "cell_type": "markdown",
   "metadata": {},
   "source": [
    "7.如下代码输出是什么？\n",
    "--------"
   ]
  },
  {
   "cell_type": "code",
   "execution_count": 27,
   "metadata": {},
   "outputs": [
    {
     "name": "stdout",
     "output_type": "stream",
     "text": [
      "[10, 23, 56, [78]]\n"
     ]
    }
   ],
   "source": [
    "import copy\n",
    "a=[10, 23, 56, [78]]\n",
    "b=copy.deepcopy(a)\n",
    "a[3][0]=95\n",
    "a[1]=34\n",
    "print(b)"
   ]
  },
  {
   "cell_type": "markdown",
   "metadata": {},
   "source": [
    "解析：参见第五题"
   ]
  },
  {
   "cell_type": "markdown",
   "metadata": {},
   "source": [
    "8.如下代码输出是什么？\n",
    "--------"
   ]
  },
  {
   "cell_type": "code",
   "execution_count": 30,
   "metadata": {},
   "outputs": [
    {
     "name": "stdout",
     "output_type": "stream",
     "text": [
      "True\n"
     ]
    }
   ],
   "source": [
    "print(\"ab12\".isalnum())"
   ]
  },
  {
   "cell_type": "markdown",
   "metadata": {},
   "source": [
    "解析：如果 string 至少有一个字符并且所有字符都是字母或数字则返回 True,否则返回 False。"
   ]
  },
  {
   "cell_type": "markdown",
   "metadata": {},
   "source": [
    "9.如下代码输出是什么？\n",
    "--------"
   ]
  },
  {
   "cell_type": "code",
   "execution_count": 31,
   "metadata": {},
   "outputs": [
    {
     "name": "stdout",
     "output_type": "stream",
     "text": [
      "25\n"
     ]
    }
   ],
   "source": [
    "list1 = [2, 33, 222, 14, 25]\n",
    "print(list1[-1])"
   ]
  },
  {
   "cell_type": "markdown",
   "metadata": {},
   "source": [
    "解析：不解析（只为了保持队形）"
   ]
  },
  {
   "cell_type": "markdown",
   "metadata": {},
   "source": [
    "10.如下代码输出是什么？\n",
    "--------"
   ]
  },
  {
   "cell_type": "code",
   "execution_count": 33,
   "metadata": {},
   "outputs": [
    {
     "name": "stdout",
     "output_type": "stream",
     "text": [
      "[0.0, 0.5, 1.0, 1.5]\n"
     ]
    }
   ],
   "source": [
    "list1 = [0.5 * x for x in range(0, 4)]\n",
    "print(list1)"
   ]
  },
  {
   "cell_type": "markdown",
   "metadata": {},
   "source": [
    "解析：同题9"
   ]
  },
  {
   "cell_type": "markdown",
   "metadata": {},
   "source": [
    "11.如下代码输出是什么？\n",
    "--------"
   ]
  },
  {
   "cell_type": "code",
   "execution_count": 34,
   "metadata": {},
   "outputs": [
    {
     "name": "stdout",
     "output_type": "stream",
     "text": [
      "True\n"
     ]
    }
   ],
   "source": [
    "print(\"ab!\".islower())"
   ]
  },
  {
   "cell_type": "markdown",
   "metadata": {},
   "source": [
    "解析：同题9"
   ]
  },
  {
   "cell_type": "markdown",
   "metadata": {},
   "source": [
    "12.如下代码输出是什么？\n",
    "--------"
   ]
  },
  {
   "cell_type": "code",
   "execution_count": 45,
   "metadata": {},
   "outputs": [
    {
     "name": "stdout",
     "output_type": "stream",
     "text": [
      "True\n"
     ]
    }
   ],
   "source": [
    "class stud:\n",
    "    def __init__(self, roll_no, grade):\n",
    "        self.roll_no = roll_no\n",
    "        self.grade = grade\n",
    "        \n",
    "    def display(self):\n",
    "        print(\"Roll no:\", self.roll_no, \", Grade:\", self.grade)\n",
    "        \n",
    "stud1 = stud(34, 'S')\n",
    "stud1.age = 7\n",
    "print(hasattr(stud1, 'age'))"
   ]
  },
  {
   "cell_type": "markdown",
   "metadata": {},
   "source": [
    "解析：python类可以动态添加属性。（日常没用到过，工作中这么用不会被打死吗？）"
   ]
  },
  {
   "cell_type": "markdown",
   "metadata": {},
   "source": [
    "13.如下代码输出是什么？\n",
    "--------"
   ]
  },
  {
   "cell_type": "code",
   "execution_count": 57,
   "metadata": {},
   "outputs": [
    {
     "name": "stdout",
     "output_type": "stream",
     "text": [
      "13\n",
      "['__class__', '__delattr__', '__dict__', '__dir__', '__doc__', '__eq__', '__format__', '__ge__', '__getattribute__', '__gt__', '__hash__', '__init__', '__init_subclass__', '__le__', '__lt__', '__module__', '__ne__', '__new__', '__reduce__', '__reduce_ex__', '__repr__', '__setattr__', '__sizeof__', '__str__', '__subclasshook__', '__weakref__', 'bags', 'price', 'quantity']\n"
     ]
    },
    {
     "data": {
      "text/plain": [
       "<method-wrapper '__eq__' of fruits object at 0x0000027D86B66250>"
      ]
     },
     "execution_count": 57,
     "metadata": {},
     "output_type": "execute_result"
    }
   ],
   "source": [
    "class fruits:\n",
    "    def __init__(self, price):\n",
    "        self.price = price\n",
    "        \n",
    "obj = fruits(50)\n",
    "\n",
    "obj.quantity=10\n",
    "obj.bags=2\n",
    "print(obj.quantity+len(obj.__dict__))"
   ]
  },
  {
   "cell_type": "markdown",
   "metadata": {},
   "source": [
    "解析：\\__dict__内置函数，返回class的属性列表。"
   ]
  },
  {
   "cell_type": "markdown",
   "metadata": {},
   "source": [
    "**多选题**\n",
    "----------------"
   ]
  },
  {
   "cell_type": "markdown",
   "metadata": {},
   "source": [
    "1.哪些变量定义不会报错？\n",
    "--------"
   ]
  },
  {
   "cell_type": "code",
   "execution_count": 59,
   "metadata": {},
   "outputs": [],
   "source": [
    "_a = 1"
   ]
  },
  {
   "cell_type": "code",
   "execution_count": 60,
   "metadata": {},
   "outputs": [],
   "source": [
    "__a = 1"
   ]
  },
  {
   "cell_type": "code",
   "execution_count": 61,
   "metadata": {},
   "outputs": [],
   "source": [
    "__str__ = 1"
   ]
  },
  {
   "cell_type": "code",
   "execution_count": 62,
   "metadata": {},
   "outputs": [],
   "source": [
    "__int__='___123'"
   ]
  },
  {
   "cell_type": "markdown",
   "metadata": {},
   "source": [
    "2.关于创建一个空list，如下哪些是对的？\n",
    "--------"
   ]
  },
  {
   "cell_type": "code",
   "execution_count": 63,
   "metadata": {},
   "outputs": [],
   "source": [
    "list1 = list()"
   ]
  },
  {
   "cell_type": "code",
   "execution_count": 64,
   "metadata": {},
   "outputs": [],
   "source": [
    "list1 = []"
   ]
  },
  {
   "cell_type": "code",
   "execution_count": 65,
   "metadata": {},
   "outputs": [],
   "source": [
    "list1 = list([])"
   ]
  },
  {
   "cell_type": "code",
   "execution_count": 66,
   "metadata": {},
   "outputs": [],
   "source": [
    "list1 = list(list())"
   ]
  },
  {
   "cell_type": "markdown",
   "metadata": {},
   "source": [
    "3.哪些不会报错的？\n",
    "--------"
   ]
  },
  {
   "cell_type": "code",
   "execution_count": 68,
   "metadata": {},
   "outputs": [
    {
     "data": {
      "text/plain": [
       "inf"
      ]
     },
     "execution_count": 68,
     "metadata": {},
     "output_type": "execute_result"
    }
   ],
   "source": [
    "# 1.正无穷：float(\"inf\"); 负无穷：float(\"-inf\")\n",
    "float('inf')"
   ]
  },
  {
   "cell_type": "code",
   "execution_count": 69,
   "metadata": {},
   "outputs": [
    {
     "data": {
      "text/plain": [
       "nan"
      ]
     },
     "execution_count": 69,
     "metadata": {},
     "output_type": "execute_result"
    }
   ],
   "source": [
    "float('nan')"
   ]
  },
  {
   "cell_type": "code",
   "execution_count": 70,
   "metadata": {},
   "outputs": [
    {
     "ename": "ValueError",
     "evalue": "could not convert string to float: '12+34'",
     "output_type": "error",
     "traceback": [
      "\u001b[1;31m---------------------------------------------------------------------------\u001b[0m",
      "\u001b[1;31mValueError\u001b[0m                                Traceback (most recent call last)",
      "\u001b[1;32m<ipython-input-70-dec8dc8400d3>\u001b[0m in \u001b[0;36m<module>\u001b[1;34m\u001b[0m\n\u001b[1;32m----> 1\u001b[1;33m \u001b[0mfloat\u001b[0m\u001b[1;33m(\u001b[0m\u001b[1;34m'12+34'\u001b[0m\u001b[1;33m)\u001b[0m\u001b[1;33m\u001b[0m\u001b[1;33m\u001b[0m\u001b[0m\n\u001b[0m",
      "\u001b[1;31mValueError\u001b[0m: could not convert string to float: '12+34'"
     ]
    }
   ],
   "source": [
    "float('12+34')"
   ]
  },
  {
   "cell_type": "code",
   "execution_count": 71,
   "metadata": {},
   "outputs": [
    {
     "data": {
      "text/plain": [
       "5678.0"
      ]
     },
     "execution_count": 71,
     "metadata": {},
     "output_type": "execute_result"
    }
   ],
   "source": [
    "float('56'+'78')"
   ]
  },
  {
   "cell_type": "markdown",
   "metadata": {},
   "source": [
    "4.哪些不会报错的？\n",
    "--------"
   ]
  },
  {
   "cell_type": "code",
   "execution_count": 72,
   "metadata": {},
   "outputs": [],
   "source": [
    "x=0b101"
   ]
  },
  {
   "cell_type": "code",
   "execution_count": 73,
   "metadata": {},
   "outputs": [],
   "source": [
    "x=0x4f5"
   ]
  },
  {
   "cell_type": "code",
   "execution_count": 74,
   "metadata": {},
   "outputs": [],
   "source": [
    "x=19023"
   ]
  },
  {
   "cell_type": "code",
   "execution_count": 75,
   "metadata": {},
   "outputs": [
    {
     "ename": "SyntaxError",
     "evalue": "leading zeros in decimal integer literals are not permitted; use an 0o prefix for octal integers (<ipython-input-75-262c780a21a9>, line 1)",
     "output_type": "error",
     "traceback": [
      "\u001b[1;36m  File \u001b[1;32m\"<ipython-input-75-262c780a21a9>\"\u001b[1;36m, line \u001b[1;32m1\u001b[0m\n\u001b[1;33m    x=03964\u001b[0m\n\u001b[1;37m          ^\u001b[0m\n\u001b[1;31mSyntaxError\u001b[0m\u001b[1;31m:\u001b[0m leading zeros in decimal integer literals are not permitted; use an 0o prefix for octal integers\n"
     ]
    }
   ],
   "source": [
    "x=03964"
   ]
  },
  {
   "cell_type": "markdown",
   "metadata": {},
   "source": [
    "5.哪些是合法的定义？\n",
    "--------"
   ]
  },
  {
   "cell_type": "code",
   "execution_count": 76,
   "metadata": {},
   "outputs": [],
   "source": [
    "abc=1000000"
   ]
  },
  {
   "cell_type": "code",
   "execution_count": 77,
   "metadata": {},
   "outputs": [
    {
     "ename": "SyntaxError",
     "evalue": "invalid syntax (<ipython-input-77-fd5f99168ec0>, line 1)",
     "output_type": "error",
     "traceback": [
      "\u001b[1;36m  File \u001b[1;32m\"<ipython-input-77-fd5f99168ec0>\"\u001b[1;36m, line \u001b[1;32m1\u001b[0m\n\u001b[1;33m    a b c = 1000 2000 3000\u001b[0m\n\u001b[1;37m      ^\u001b[0m\n\u001b[1;31mSyntaxError\u001b[0m\u001b[1;31m:\u001b[0m invalid syntax\n"
     ]
    }
   ],
   "source": [
    "a b c = 1000 2000 3000"
   ]
  },
  {
   "cell_type": "code",
   "execution_count": 78,
   "metadata": {},
   "outputs": [],
   "source": [
    "a,b,c=1000,2000,3000"
   ]
  },
  {
   "cell_type": "code",
   "execution_count": 79,
   "metadata": {},
   "outputs": [],
   "source": [
    "a_b_c = 1000000"
   ]
  },
  {
   "cell_type": "code",
   "execution_count": 80,
   "metadata": {},
   "outputs": [],
   "source": [
    "a = float('nan')"
   ]
  },
  {
   "cell_type": "code",
   "execution_count": 81,
   "metadata": {},
   "outputs": [
    {
     "data": {
      "text/plain": [
       "True"
      ]
     },
     "execution_count": 81,
     "metadata": {},
     "output_type": "execute_result"
    }
   ],
   "source": [
    "a!=a"
   ]
  },
  {
   "cell_type": "code",
   "execution_count": 83,
   "metadata": {},
   "outputs": [
    {
     "data": {
      "text/plain": [
       "nan"
      ]
     },
     "execution_count": 83,
     "metadata": {},
     "output_type": "execute_result"
    }
   ],
   "source": [
    "a"
   ]
  },
  {
   "cell_type": "markdown",
   "metadata": {},
   "source": [
    "NaN（not a number），在数学表示上表示一个无法表示的数，这里一般还会有另一个表述inf，inf和nan的不同在于，inf是一个超过浮点表示范围的浮点数（其本质仍然是一个数，只是他无穷大，因此无法用浮点数表示，比如1/0），而nan则一般表示一个非浮点数（比如无理数）\n",
    "\n",
    "在数学上inf==inf，且inf == inf+X（X为任意浮点数），而nan != nan，因此在python中判断一个数是否是nan，可以直接判断他是否与自身相等."
   ]
  },
  {
   "cell_type": "markdown",
   "metadata": {},
   "source": [
    "题目描述\n",
    "--------"
   ]
  },
  {
   "cell_type": "markdown",
   "metadata": {},
   "source": [
    "假设输入的文本由英文、标点符号、空格、制表符、换行符等组成，编写一个程序，对输入的文本作统计。\n",
    "要求：\n",
    "1.字符转换为小写；\n",
    "2.输出为英文单词和其出现的次数，按照逗号隔开；\n",
    "3.输出的排列顺序按照次数越多越靠前，相同次数的按照单词字母顺序排序。"
   ]
  },
  {
   "cell_type": "code",
   "execution_count": 97,
   "metadata": {},
   "outputs": [],
   "source": [
    "import re\n",
    "\n",
    "class WordCount:\n",
    "    def __init__(self):\n",
    "        self.worddict = {}\n",
    "        \n",
    "    def count(self, line):\n",
    "        line = re.sub('\\W+', ' ', line) # \\W 表示匹配非数字字母下划线\n",
    "        for word in line.strip().split(' '):\n",
    "            if word in self.worddict:\n",
    "                self.worddict[word] += 1\n",
    "            else:\n",
    "                self.worddict[word] = 1\n",
    "                \n",
    "    def rresult(self):\n",
    "        result = {}\n",
    "        \n",
    "        for k,v in self.worddict.items():\n",
    "            if v in result:\n",
    "                result[v].append(k)\n",
    "            else:\n",
    "                result[v] = [k]\n",
    "                \n",
    "        for k in sorted(result.keys(), reverse=True):\n",
    "            for v in sorted(result[k]):\n",
    "                print(str(k) + \",\" + str(v))"
   ]
  },
  {
   "cell_type": "code",
   "execution_count": 98,
   "metadata": {},
   "outputs": [
    {
     "name": "stdout",
     "output_type": "stream",
     "text": [
      "2,love\n",
      "2,of\n",
      "1,We\n",
      "1,a\n",
      "1,are\n",
      "1,flowers\n",
      "1,planted\n",
      "1,the\n",
      "1,witness\n"
     ]
    }
   ],
   "source": [
    "w = WordCount()\n",
    "line = 'We are the witness of love, planted a love of flowers.'\n",
    "w.count(line)\n",
    "w.rresult()"
   ]
  },
  {
   "cell_type": "code",
   "execution_count": null,
   "metadata": {},
   "outputs": [],
   "source": []
  }
 ],
 "metadata": {
  "kernelspec": {
   "display_name": "Python 3",
   "language": "python",
   "name": "python3"
  },
  "language_info": {
   "codemirror_mode": {
    "name": "ipython",
    "version": 3
   },
   "file_extension": ".py",
   "mimetype": "text/x-python",
   "name": "python",
   "nbconvert_exporter": "python",
   "pygments_lexer": "ipython3",
   "version": "3.8.3"
  }
 },
 "nbformat": 4,
 "nbformat_minor": 4
}
